{
 "cells": [
  {
   "cell_type": "code",
   "execution_count": 7,
   "metadata": {},
   "outputs": [],
   "source": [
    "ga_tag = open(\"ga_tag.txt\", \"r\").read().strip()\n",
    "ga_tag_lines = ga_tag.split(\"\\n\")\n",
    "ga_tag_lines = [f\"{line}\\n\" for line in ga_tag_lines]\n",
    "ga_tag_lines[0] = \"        \" + ga_tag_lines[0]"
   ]
  },
  {
   "cell_type": "code",
   "execution_count": 8,
   "metadata": {},
   "outputs": [
    {
     "data": {
      "text/plain": [
       "['_book/introduction/about-the-author.html',\n",
       " '_book/introduction/acknowledgments.html',\n",
       " '_book/introduction/target-audience.html',\n",
       " '_book/introduction/contribute.html',\n",
       " '_book/off-campus-housing/hawkins-meadows.html',\n",
       " '_book/off-campus-housing/renew-amherst.html',\n",
       " '_book/off-campus-housing/townhouse-apartment.html',\n",
       " '_book/off-campus-housing/the-social-amherst.html',\n",
       " '_book/off-campus-housing/housing.html',\n",
       " '_book/off-campus-housing/rolling-green-apartments.html',\n",
       " '_book/off-campus-housing/north-square-apartments.html',\n",
       " '_book/off-campus-housing/presidential-apartments.html',\n",
       " '_book/off-campus-housing/spruce-ridge.html',\n",
       " '_book/off-campus-housing/sugarloaf-estates.html',\n",
       " '_book/off-campus-housing/lantern-court-apartments.html',\n",
       " '_book/off-campus-housing/crestview-apartments.html',\n",
       " '_book/off-campus-housing/cliffside-apartment-homes.html',\n",
       " '_book/off-campus-housing/puffton-village-apartments.html',\n",
       " '_book/off-campus-housing/mill-valley-estates.html',\n",
       " '_book/off-campus-housing/center-east-commons.html',\n",
       " '_book/off-campus-housing/brandywine-apartments.html',\n",
       " '_book/off-campus-housing/the-boulders.html',\n",
       " '_book/academics-careers/academics-and-career-opportunities.html',\n",
       " '_book/academics-careers/course-selection.html',\n",
       " '_book/academics-careers/beyond-coursework-job-hunt.html',\n",
       " '_book/index.html']"
      ]
     },
     "execution_count": 8,
     "metadata": {},
     "output_type": "execute_result"
    }
   ],
   "source": [
    "from os import listdir\n",
    "from os.path import isfile, join\n",
    "path = \"_book/introduction\"\n",
    "onlyfiles_1 = [f for f in listdir(path) if isfile(join(path, f))]\n",
    "onlyfiles_1 = [f\"{path}/{file}\" for file in onlyfiles_1]\n",
    "path = \"_book/off-campus-housing\"\n",
    "onlyfiles_2 = [f for f in listdir(path) if isfile(join(path, f))]\n",
    "onlyfiles_2 = [f\"{path}/{file}\" for file in onlyfiles_2]\n",
    "path = \"_book/academics-careers\"\n",
    "onlyfiles_3 = [f for f in listdir(path) if isfile(join(path, f))]\n",
    "onlyfiles_3 = [f\"{path}/{file}\" for file in onlyfiles_3]\n",
    "onlyfiles = onlyfiles_1 + onlyfiles_2 + onlyfiles_3\n",
    "onlyfiles.append(\"_book/index.html\")\n",
    "onlyfiles"
   ]
  },
  {
   "cell_type": "code",
   "execution_count": 9,
   "metadata": {},
   "outputs": [
    {
     "name": "stdout",
     "output_type": "stream",
     "text": [
      "_book/introduction/about-the-author.html\n",
      "_book/introduction/acknowledgments.html\n",
      "_book/introduction/target-audience.html\n",
      "_book/introduction/contribute.html\n",
      "_book/off-campus-housing/hawkins-meadows.html\n",
      "_book/off-campus-housing/renew-amherst.html\n",
      "_book/off-campus-housing/townhouse-apartment.html\n",
      "_book/off-campus-housing/the-social-amherst.html\n",
      "_book/off-campus-housing/housing.html\n",
      "_book/off-campus-housing/rolling-green-apartments.html\n",
      "_book/off-campus-housing/north-square-apartments.html\n",
      "_book/off-campus-housing/presidential-apartments.html\n",
      "_book/off-campus-housing/spruce-ridge.html\n",
      "_book/off-campus-housing/sugarloaf-estates.html\n",
      "_book/off-campus-housing/lantern-court-apartments.html\n",
      "_book/off-campus-housing/crestview-apartments.html\n",
      "_book/off-campus-housing/cliffside-apartment-homes.html\n",
      "_book/off-campus-housing/puffton-village-apartments.html\n",
      "_book/off-campus-housing/mill-valley-estates.html\n",
      "_book/off-campus-housing/center-east-commons.html\n",
      "_book/off-campus-housing/brandywine-apartments.html\n",
      "_book/off-campus-housing/the-boulders.html\n",
      "_book/academics-careers/academics-and-career-opportunities.html\n",
      "_book/academics-careers/course-selection.html\n",
      "_book/academics-careers/beyond-coursework-job-hunt.html\n",
      "_book/index.html\n"
     ]
    }
   ],
   "source": [
    "n = len(\" · HonKit</title>\")\n",
    "for file in onlyfiles:\n",
    "    print(file)\n",
    "    if not file.endswith(\"html\"):\n",
    "        print(file)\n",
    "        continue\n",
    "    correct_lines = []\n",
    "    prev = None\n",
    "    with open(file, \"r\") as f:\n",
    "        lines = f.readlines()\n",
    "        for i, line in enumerate(lines):\n",
    "            if prev == \"<head>\":\n",
    "                correct_lines.extend(ga_tag_lines)\n",
    "            correct_lines.append(line)\n",
    "            prev = line.strip()\n",
    "        correct_lines.extend(lines[i + 1:])\n",
    "    with open(file, \"w\") as f:\n",
    "        text = \"\".join(correct_lines)\n",
    "        f.write(text)"
   ]
  },
  {
   "cell_type": "code",
   "execution_count": 10,
   "metadata": {},
   "outputs": [
    {
     "name": "stdout",
     "output_type": "stream",
     "text": [
      "_book/introduction/about-the-author.html\n",
      "_book/introduction/acknowledgments.html\n",
      "_book/introduction/target-audience.html\n",
      "_book/introduction/contribute.html\n",
      "_book/off-campus-housing/hawkins-meadows.html\n",
      "_book/off-campus-housing/renew-amherst.html\n",
      "_book/off-campus-housing/townhouse-apartment.html\n",
      "_book/off-campus-housing/the-social-amherst.html\n",
      "_book/off-campus-housing/housing.html\n",
      "_book/off-campus-housing/rolling-green-apartments.html\n",
      "_book/off-campus-housing/north-square-apartments.html\n",
      "_book/off-campus-housing/presidential-apartments.html\n",
      "_book/off-campus-housing/spruce-ridge.html\n",
      "_book/off-campus-housing/sugarloaf-estates.html\n",
      "_book/off-campus-housing/lantern-court-apartments.html\n",
      "_book/off-campus-housing/crestview-apartments.html\n",
      "_book/off-campus-housing/cliffside-apartment-homes.html\n",
      "_book/off-campus-housing/puffton-village-apartments.html\n",
      "_book/off-campus-housing/mill-valley-estates.html\n",
      "_book/off-campus-housing/center-east-commons.html\n",
      "_book/off-campus-housing/brandywine-apartments.html\n",
      "_book/off-campus-housing/the-boulders.html\n",
      "_book/academics-careers/academics-and-career-opportunities.html\n",
      "_book/academics-careers/course-selection.html\n",
      "_book/academics-careers/beyond-coursework-job-hunt.html\n",
      "_book/index.html\n"
     ]
    }
   ],
   "source": [
    "linkedin_follow_icon = \"\"\"    <a class=\"btn pull-left js-toolbar-action\" aria-label=\"\" href=\"https://www.linkedin.com/comm/mynetwork/discovery-see-all?usecase=PEOPLE_FOLLOWS&followMember=nsubramanya\"><i class=\"fa fa-linkedin fa-align-justify\"></i></a>\"\"\"\n",
    "for file in onlyfiles:\n",
    "    print(file)\n",
    "    if not file.endswith(\"html\"):\n",
    "        print(file)\n",
    "        continue\n",
    "    correct_lines = []\n",
    "    prev = None\n",
    "    with open(file, \"r\") as f:\n",
    "        lines = f.readlines()\n",
    "        for i, line in enumerate(lines):\n",
    "            if prev == \"<!-- Title -->\":\n",
    "                correct_lines.append(linkedin_follow_icon)\n",
    "            correct_lines.append(line)\n",
    "            prev = line.strip()\n",
    "        correct_lines.extend(lines[i + 1:])\n",
    "    with open(file, \"w\") as f:\n",
    "        text = \"\".join(correct_lines)\n",
    "        f.write(text)"
   ]
  },
  {
   "cell_type": "code",
   "execution_count": 11,
   "metadata": {},
   "outputs": [],
   "source": [
    "rm -rf _book/ga_tag.*"
   ]
  },
  {
   "cell_type": "code",
   "execution_count": 12,
   "metadata": {},
   "outputs": [
    {
     "name": "stdout",
     "output_type": "stream",
     "text": [
      "[master 68f2a1a] fix(newsletter): Implement custom template for JavaScript inclusion across all pages\n",
      " Date: Mon Jun 9 22:33:41 2025 -0700\n",
      " 53 files changed, 115 insertions(+), 127 deletions(-)\n",
      " create mode 100644 _layouts/website/page.html\n"
     ]
    }
   ],
   "source": [
    "!git add . && git commit --amend --no-edit"
   ]
  },
  {
   "attachments": {},
   "cell_type": "markdown",
   "metadata": {},
   "source": [
    "```\n",
    "git checkout html && rm -rf *\n",
    "git checkout master -- _book\n",
    "mv _book/* . && rm -rf _book\n",
    "git add -A && git commit -am \"Update html file\" && git push\n",
    "```"
   ]
  }
 ],
 "metadata": {
  "kernelspec": {
   "display_name": "Python 3",
   "language": "python",
   "name": "python3"
  },
  "language_info": {
   "codemirror_mode": {
    "name": "ipython",
    "version": 3
   },
   "file_extension": ".py",
   "mimetype": "text/x-python",
   "name": "python",
   "nbconvert_exporter": "python",
   "pygments_lexer": "ipython3",
   "version": "3.9.13"
  }
 },
 "nbformat": 4,
 "nbformat_minor": 4
}
